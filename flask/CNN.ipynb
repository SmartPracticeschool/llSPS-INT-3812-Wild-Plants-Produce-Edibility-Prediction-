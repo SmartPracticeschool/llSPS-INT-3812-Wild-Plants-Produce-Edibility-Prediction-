{
 "cells": [
  {
   "cell_type": "code",
   "execution_count": 1,
   "metadata": {},
   "outputs": [],
   "source": [
    "from tensorflow.keras.models import Sequential\n",
    "from tensorflow.keras.layers import Dense\n",
    "from tensorflow.keras.layers import Conv2D  #convolution layer\n",
    "from tensorflow.keras.layers import MaxPool2D #max pooling\n",
    "from tensorflow.keras.layers import Flatten  #flatten layer"
   ]
  },
  {
   "cell_type": "code",
   "execution_count": 2,
   "metadata": {},
   "outputs": [],
   "source": [
    "model = Sequential()"
   ]
  },
  {
   "cell_type": "code",
   "execution_count": 3,
   "metadata": {},
   "outputs": [],
   "source": [
    "model.add(Conv2D(32,3,3,input_shape=(64,64,3),activation='relu'))\n",
    "#32 - number of feature detector, 3,3- size\n",
    "#input_shape - expected input shape (64,64) and 3- RGB  (1-Grey Scale)"
   ]
  },
  {
   "cell_type": "code",
   "execution_count": 4,
   "metadata": {},
   "outputs": [],
   "source": [
    "model.add(MaxPool2D(pool_size=(2,2)))"
   ]
  },
  {
   "cell_type": "code",
   "execution_count": 5,
   "metadata": {},
   "outputs": [],
   "source": [
    "model.add(Flatten())"
   ]
  },
  {
   "cell_type": "code",
   "execution_count": 6,
   "metadata": {},
   "outputs": [
    {
     "name": "stdout",
     "output_type": "stream",
     "text": [
      "Model: \"sequential\"\n",
      "_________________________________________________________________\n",
      "Layer (type)                 Output Shape              Param #   \n",
      "=================================================================\n",
      "conv2d (Conv2D)              (None, 21, 21, 32)        896       \n",
      "_________________________________________________________________\n",
      "max_pooling2d (MaxPooling2D) (None, 10, 10, 32)        0         \n",
      "_________________________________________________________________\n",
      "flatten (Flatten)            (None, 3200)              0         \n",
      "=================================================================\n",
      "Total params: 896\n",
      "Trainable params: 896\n",
      "Non-trainable params: 0\n",
      "_________________________________________________________________\n"
     ]
    }
   ],
   "source": [
    "model.summary()"
   ]
  },
  {
   "cell_type": "code",
   "execution_count": 7,
   "metadata": {},
   "outputs": [],
   "source": [
    "model.add(Dense(units=128,activation='relu',kernel_initializer='random_uniform'))"
   ]
  },
  {
   "cell_type": "code",
   "execution_count": 8,
   "metadata": {},
   "outputs": [],
   "source": [
    "model.add(Dense(units=1,kernel_initializer='random_uniform',activation='sigmoid'))\n",
    "#units =4 for 4 categories  , activation = softmax"
   ]
  },
  {
   "cell_type": "code",
   "execution_count": 9,
   "metadata": {},
   "outputs": [
    {
     "name": "stdout",
     "output_type": "stream",
     "text": [
      "Model: \"sequential\"\n",
      "_________________________________________________________________\n",
      "Layer (type)                 Output Shape              Param #   \n",
      "=================================================================\n",
      "conv2d (Conv2D)              (None, 21, 21, 32)        896       \n",
      "_________________________________________________________________\n",
      "max_pooling2d (MaxPooling2D) (None, 10, 10, 32)        0         \n",
      "_________________________________________________________________\n",
      "flatten (Flatten)            (None, 3200)              0         \n",
      "_________________________________________________________________\n",
      "dense (Dense)                (None, 128)               409728    \n",
      "_________________________________________________________________\n",
      "dense_1 (Dense)              (None, 1)                 129       \n",
      "=================================================================\n",
      "Total params: 410,753\n",
      "Trainable params: 410,753\n",
      "Non-trainable params: 0\n",
      "_________________________________________________________________\n"
     ]
    }
   ],
   "source": [
    "model.summary()"
   ]
  },
  {
   "cell_type": "code",
   "execution_count": 10,
   "metadata": {},
   "outputs": [],
   "source": [
    "model.compile(optimizer = 'adam',loss='binary_crossentropy',metrics=['accuracy']) \n",
    "#categorical_crossentropy for categorical"
   ]
  },
  {
   "cell_type": "code",
   "execution_count": 11,
   "metadata": {},
   "outputs": [
    {
     "name": "stderr",
     "output_type": "stream",
     "text": [
      "Using TensorFlow backend.\n"
     ]
    }
   ],
   "source": [
    "from keras.preprocessing.image import ImageDataGenerator   #used for passing the images"
   ]
  },
  {
   "cell_type": "code",
   "execution_count": 12,
   "metadata": {},
   "outputs": [],
   "source": [
    "train_datagen = ImageDataGenerator(rescale=1./255,shear_range=0.2,horizontal_flip=True,zoom_range=0.2) \n",
    "test_datagen = ImageDataGenerator(rescale=1./255)"
   ]
  },
  {
   "cell_type": "code",
   "execution_count": 13,
   "metadata": {},
   "outputs": [
    {
     "name": "stdout",
     "output_type": "stream",
     "text": [
      "Found 624 images belonging to 8 classes.\n",
      "Found 269 images belonging to 8 classes.\n"
     ]
    }
   ],
   "source": [
    "x_train = train_datagen.flow_from_directory(r'dataset\\training_set',target_size=(64,64),batch_size=32,class_mode='binary')\n",
    "x_test = test_datagen.flow_from_directory(r'dataset\\test_set',target_size=(64,64),batch_size=32,class_mode='binary')\n",
    "\n",
    "#more than 2 categories then class_mode='categorical'"
   ]
  },
  {
   "cell_type": "code",
   "execution_count": 14,
   "metadata": {},
   "outputs": [
    {
     "name": "stdout",
     "output_type": "stream",
     "text": [
      "{'Mountain Laurel_nonedible': 0, 'Peppergrass_edible': 1, 'Purple Deadnettle_edible': 2, 'Rhododendron_nonedible': 3, 'Toothwort_edible': 4, 'Wild Grape Vine_edible': 5, 'Wild Leek_edible': 6, 'rattlebox_nonedible': 7}\n"
     ]
    }
   ],
   "source": [
    "print(x_train.class_indices)   #to check what's 0 and 1\n",
    "                               #dimention of x_train is 4== (number of images, height,width,rgb)"
   ]
  },
  {
   "cell_type": "code",
   "execution_count": 15,
   "metadata": {},
   "outputs": [
    {
     "name": "stdout",
     "output_type": "stream",
     "text": [
      "Epoch 1/25\n",
      "624/624 [==============================] - 202s 323ms/step - loss: -34.9219 - accuracy: 0.1917 - val_loss: -38.7248 - val_accuracy: 0.1299\n",
      "Epoch 2/25\n",
      "624/624 [==============================] - 198s 317ms/step - loss: -35.3000 - accuracy: 0.1926 - val_loss: -38.6115 - val_accuracy: 0.1302\n",
      "Epoch 3/25\n",
      "624/624 [==============================] - 169s 271ms/step - loss: -35.3522 - accuracy: 0.1924 - val_loss: -38.7491 - val_accuracy: 0.1301\n",
      "Epoch 4/25\n",
      "624/624 [==============================] - 169s 271ms/step - loss: -35.4197 - accuracy: 0.1921 - val_loss: -38.7247 - val_accuracy: 0.1302\n",
      "Epoch 5/25\n",
      "624/624 [==============================] - 162s 260ms/step - loss: -35.3958 - accuracy: 0.1925 - val_loss: -38.8077 - val_accuracy: 0.1301\n",
      "Epoch 6/25\n",
      "624/624 [==============================] - 156s 250ms/step - loss: -35.3507 - accuracy: 0.1925 - val_loss: -38.6920 - val_accuracy: 0.1299\n",
      "Epoch 7/25\n",
      "624/624 [==============================] - 158s 253ms/step - loss: -35.3806 - accuracy: 0.1917 - val_loss: -38.6757 - val_accuracy: 0.1301\n",
      "Epoch 8/25\n",
      "624/624 [==============================] - 163s 262ms/step - loss: -35.3368 - accuracy: 0.1928 - val_loss: -38.7132 - val_accuracy: 0.1302\n",
      "Epoch 9/25\n",
      "624/624 [==============================] - 163s 261ms/step - loss: -35.3139 - accuracy: 0.1921 - val_loss: -38.7131 - val_accuracy: 0.1302\n",
      "Epoch 10/25\n",
      "624/624 [==============================] - 163s 261ms/step - loss: -35.4342 - accuracy: 0.1924 - val_loss: -38.7069 - val_accuracy: 0.1301\n",
      "Epoch 11/25\n",
      "624/624 [==============================] - 171s 274ms/step - loss: -35.3859 - accuracy: 0.1922 - val_loss: -38.6978 - val_accuracy: 0.1302\n",
      "Epoch 12/25\n",
      "624/624 [==============================] - 157s 252ms/step - loss: -35.3944 - accuracy: 0.1922 - val_loss: -38.6337 - val_accuracy: 0.1299\n",
      "Epoch 13/25\n",
      "624/624 [==============================] - 158s 253ms/step - loss: -35.4311 - accuracy: 0.1923 - val_loss: -38.5801 - val_accuracy: 0.1301\n",
      "Epoch 14/25\n",
      "624/624 [==============================] - 164s 263ms/step - loss: -35.4059 - accuracy: 0.1923 - val_loss: -38.6825 - val_accuracy: 0.1299\n",
      "Epoch 15/25\n",
      "624/624 [==============================] - 163s 261ms/step - loss: -35.4358 - accuracy: 0.1925 - val_loss: -38.6255 - val_accuracy: 0.1299\n",
      "Epoch 16/25\n",
      "624/624 [==============================] - 162s 259ms/step - loss: -35.3361 - accuracy: 0.1923 - val_loss: -38.6799 - val_accuracy: 0.1303\n",
      "Epoch 17/25\n",
      "624/624 [==============================] - 233s 374ms/step - loss: -35.3744 - accuracy: 0.1928 - val_loss: -38.5445 - val_accuracy: 0.1301\n",
      "Epoch 18/25\n",
      "624/624 [==============================] - 159s 255ms/step - loss: -35.4197 - accuracy: 0.1918 - val_loss: -38.4549 - val_accuracy: 0.1302\n",
      "Epoch 19/25\n",
      "624/624 [==============================] - 159s 255ms/step - loss: -35.3905 - accuracy: 0.1924 - val_loss: -38.6733 - val_accuracy: 0.1301\n",
      "Epoch 20/25\n",
      "624/624 [==============================] - 159s 254ms/step - loss: -35.3821 - accuracy: 0.1923 - val_loss: -38.5878 - val_accuracy: 0.1303\n",
      "Epoch 21/25\n",
      "624/624 [==============================] - 156s 250ms/step - loss: -35.4611 - accuracy: 0.1922 - val_loss: -38.6241 - val_accuracy: 0.1302\n",
      "Epoch 22/25\n",
      "624/624 [==============================] - 155s 249ms/step - loss: -35.4151 - accuracy: 0.1923 - val_loss: -38.7650 - val_accuracy: 0.1303\n",
      "Epoch 23/25\n",
      "624/624 [==============================] - 154s 246ms/step - loss: -35.2816 - accuracy: 0.1931 - val_loss: -38.6836 - val_accuracy: 0.1302\n",
      "Epoch 24/25\n",
      "624/624 [==============================] - 160s 257ms/step - loss: -35.4190 - accuracy: 0.1915 - val_loss: -38.7188 - val_accuracy: 0.1302\n",
      "Epoch 25/25\n",
      "624/624 [==============================] - 157s 251ms/step - loss: -35.3691 - accuracy: 0.1924 - val_loss: -38.7670 - val_accuracy: 0.1301\n"
     ]
    },
    {
     "data": {
      "text/plain": [
       "<tensorflow.python.keras.callbacks.History at 0x1e46ad10a58>"
      ]
     },
     "execution_count": 15,
     "metadata": {},
     "output_type": "execute_result"
    }
   ],
   "source": [
    "model.fit_generator(x_train,steps_per_epoch=624,validation_data=x_test,epochs=25,validation_steps=269)"
   ]
  },
  {
   "cell_type": "code",
   "execution_count": 16,
   "metadata": {},
   "outputs": [],
   "source": [
    "model.save('major1.h5')"
   ]
  },
  {
   "cell_type": "code",
   "execution_count": null,
   "metadata": {},
   "outputs": [],
   "source": []
  }
 ],
 "metadata": {
  "kernelspec": {
   "display_name": "Python 3",
   "language": "python",
   "name": "python3"
  },
  "language_info": {
   "codemirror_mode": {
    "name": "ipython",
    "version": 3
   },
   "file_extension": ".py",
   "mimetype": "text/x-python",
   "name": "python",
   "nbconvert_exporter": "python",
   "pygments_lexer": "ipython3",
   "version": "3.7.1"
  }
 },
 "nbformat": 4,
 "nbformat_minor": 2
}
